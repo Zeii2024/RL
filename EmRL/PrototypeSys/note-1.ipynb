{
 "metadata": {
  "language_info": {
   "codemirror_mode": {
    "name": "ipython",
    "version": 3
   },
   "file_extension": ".py",
   "mimetype": "text/x-python",
   "name": "python",
   "nbconvert_exporter": "python",
   "pygments_lexer": "ipython3",
   "version": "3.7.3-final"
  },
  "orig_nbformat": 2,
  "kernelspec": {
   "name": "python373jvsc74a57bd0b3ba2566441a7c06988d0923437866b63cedc61552a5af99d1f4fb67d367b25f",
   "display_name": "Python 3.7.3 64-bit (conda)"
  }
 },
 "nbformat": 4,
 "nbformat_minor": 2,
 "cells": [
  {
   "cell_type": "code",
   "execution_count": 1,
   "metadata": {},
   "outputs": [],
   "source": [
    "import wx"
   ]
  },
  {
   "cell_type": "code",
   "execution_count": 4,
   "metadata": {},
   "outputs": [
    {
     "output_type": "execute_result",
     "data": {
      "text/plain": [
       "0"
      ]
     },
     "metadata": {},
     "execution_count": 4
    }
   ],
   "source": [
    "import  wx\n",
    "## SplitterWindows\n",
    "class MyFrame(wx.Frame):\n",
    "    def __init__(self, parent):\n",
    "        wx.Frame.__init__(self, parent)\n",
    "        self.splitter = wx.SplitterWindow(self)\n",
    "\n",
    "        pan1 = wx.Window(self.splitter, style=wx.BORDER_SUNKEN)\n",
    "        #pan1.SetBackgroundColour(\"yellow\")\n",
    "        wx.StaticText(pan1, -1, \"My Left Panel\")\n",
    "\n",
    "        pan2 = wx.Window(self.splitter, style=wx.BORDER_SUNKEN)\n",
    "        #pan2.SetBackgroundColour(\"orange\")\n",
    "        wx.StaticText(pan2, -1, \"my Right Panel\")\n",
    "\n",
    "        self.splitter.SplitVertically(pan1, pan2, -100)\n",
    "\n",
    "\n",
    "\n",
    "app = wx.App()\n",
    "frame = MyFrame(None)\n",
    "frame.Show()\n",
    "app.MainLoop()"
   ]
  },
  {
   "cell_type": "code",
   "execution_count": null,
   "metadata": {},
   "outputs": [],
   "source": []
  }
 ]
}